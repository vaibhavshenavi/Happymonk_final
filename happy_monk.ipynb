{
  "nbformat": 4,
  "nbformat_minor": 0,
  "metadata": {
    "colab": {
      "provenance": [],
      "gpuType": "T4",
      "name": "happy_monk(Vaibhav).ipynb",
      "authorship_tag": "ABX9TyOg+QHa1Sb7Y6nQ0pIL297E",
      "include_colab_link": true
    },
    "kernelspec": {
      "name": "python3",
      "display_name": "Python 3"
    },
    "language_info": {
      "name": "python"
    },
    "accelerator": "GPU"
  },
  "cells": [
    {
      "cell_type": "markdown",
      "metadata": {
        "id": "view-in-github",
        "colab_type": "text"
      },
      "source": [
        "<a href=\"https://colab.research.google.com/gist/vaibhavshenavi/b432b09c83092c11955be07e637bf6f6/happy_monk.ipynb\" target=\"_parent\"><img src=\"https://colab.research.google.com/assets/colab-badge.svg\" alt=\"Open In Colab\"/></a>"
      ]
    },
    {
      "cell_type": "code",
      "source": [
        "!pip install tensorflow-gpu"
      ],
      "metadata": {
        "id": "AUcvphwj7IrX"
      },
      "execution_count": null,
      "outputs": []
    },
    {
      "cell_type": "code",
      "source": [
        "import tensorflow as tf\n",
        "print(tf.__version__)"
      ],
      "metadata": {
        "colab": {
          "base_uri": "https://localhost:8080/"
        },
        "id": "ckOUsz078KK3",
        "outputId": "cd54a038-a1ae-4c58-f989-28eaf088123d"
      },
      "execution_count": null,
      "outputs": [
        {
          "output_type": "stream",
          "name": "stdout",
          "text": [
            "2.12.0\n"
          ]
        }
      ]
    },
    {
      "cell_type": "code",
      "source": [
        "# import basic libraries\n",
        "import numpy as np\n",
        "import matplotlib.pyplot as plt\n",
        "import pandas as pd"
      ],
      "metadata": {
        "id": "5CNl--UT8bgq"
      },
      "execution_count": null,
      "outputs": []
    },
    {
      "cell_type": "code",
      "source": [
        "dataset= pd.read_csv('/content/breastCancer.csv')\n",
        "dataset.head()"
      ],
      "metadata": {
        "colab": {
          "base_uri": "https://localhost:8080/",
          "height": 270
        },
        "id": "UZt3FeY18yDq",
        "outputId": "90c7666b-75d3-4580-9ce1-d322d190ca96"
      },
      "execution_count": null,
      "outputs": [
        {
          "output_type": "execute_result",
          "data": {
            "text/plain": [
              "        id  clump_thickness  size_uniformity  shape_uniformity  \\\n",
              "0  1000025                5                1                 1   \n",
              "1  1002945                5                4                 4   \n",
              "2  1015425                3                1                 1   \n",
              "3  1016277                6                8                 8   \n",
              "4  1017023                4                1                 1   \n",
              "\n",
              "   marginal_adhesion  epithelial_size bare_nucleoli  bland_chromatin  \\\n",
              "0                  1                2             1                3   \n",
              "1                  5                7            10                3   \n",
              "2                  1                2             2                3   \n",
              "3                  1                3             4                3   \n",
              "4                  3                2             1                3   \n",
              "\n",
              "   normal_nucleoli  mitoses  class  \n",
              "0                1        1      2  \n",
              "1                2        1      2  \n",
              "2                1        1      2  \n",
              "3                7        1      2  \n",
              "4                1        1      2  "
            ],
            "text/html": [
              "\n",
              "\n",
              "  <div id=\"df-6d15db82-d1b0-4e3e-b08c-cf5727ce8cc5\">\n",
              "    <div class=\"colab-df-container\">\n",
              "      <div>\n",
              "<style scoped>\n",
              "    .dataframe tbody tr th:only-of-type {\n",
              "        vertical-align: middle;\n",
              "    }\n",
              "\n",
              "    .dataframe tbody tr th {\n",
              "        vertical-align: top;\n",
              "    }\n",
              "\n",
              "    .dataframe thead th {\n",
              "        text-align: right;\n",
              "    }\n",
              "</style>\n",
              "<table border=\"1\" class=\"dataframe\">\n",
              "  <thead>\n",
              "    <tr style=\"text-align: right;\">\n",
              "      <th></th>\n",
              "      <th>id</th>\n",
              "      <th>clump_thickness</th>\n",
              "      <th>size_uniformity</th>\n",
              "      <th>shape_uniformity</th>\n",
              "      <th>marginal_adhesion</th>\n",
              "      <th>epithelial_size</th>\n",
              "      <th>bare_nucleoli</th>\n",
              "      <th>bland_chromatin</th>\n",
              "      <th>normal_nucleoli</th>\n",
              "      <th>mitoses</th>\n",
              "      <th>class</th>\n",
              "    </tr>\n",
              "  </thead>\n",
              "  <tbody>\n",
              "    <tr>\n",
              "      <th>0</th>\n",
              "      <td>1000025</td>\n",
              "      <td>5</td>\n",
              "      <td>1</td>\n",
              "      <td>1</td>\n",
              "      <td>1</td>\n",
              "      <td>2</td>\n",
              "      <td>1</td>\n",
              "      <td>3</td>\n",
              "      <td>1</td>\n",
              "      <td>1</td>\n",
              "      <td>2</td>\n",
              "    </tr>\n",
              "    <tr>\n",
              "      <th>1</th>\n",
              "      <td>1002945</td>\n",
              "      <td>5</td>\n",
              "      <td>4</td>\n",
              "      <td>4</td>\n",
              "      <td>5</td>\n",
              "      <td>7</td>\n",
              "      <td>10</td>\n",
              "      <td>3</td>\n",
              "      <td>2</td>\n",
              "      <td>1</td>\n",
              "      <td>2</td>\n",
              "    </tr>\n",
              "    <tr>\n",
              "      <th>2</th>\n",
              "      <td>1015425</td>\n",
              "      <td>3</td>\n",
              "      <td>1</td>\n",
              "      <td>1</td>\n",
              "      <td>1</td>\n",
              "      <td>2</td>\n",
              "      <td>2</td>\n",
              "      <td>3</td>\n",
              "      <td>1</td>\n",
              "      <td>1</td>\n",
              "      <td>2</td>\n",
              "    </tr>\n",
              "    <tr>\n",
              "      <th>3</th>\n",
              "      <td>1016277</td>\n",
              "      <td>6</td>\n",
              "      <td>8</td>\n",
              "      <td>8</td>\n",
              "      <td>1</td>\n",
              "      <td>3</td>\n",
              "      <td>4</td>\n",
              "      <td>3</td>\n",
              "      <td>7</td>\n",
              "      <td>1</td>\n",
              "      <td>2</td>\n",
              "    </tr>\n",
              "    <tr>\n",
              "      <th>4</th>\n",
              "      <td>1017023</td>\n",
              "      <td>4</td>\n",
              "      <td>1</td>\n",
              "      <td>1</td>\n",
              "      <td>3</td>\n",
              "      <td>2</td>\n",
              "      <td>1</td>\n",
              "      <td>3</td>\n",
              "      <td>1</td>\n",
              "      <td>1</td>\n",
              "      <td>2</td>\n",
              "    </tr>\n",
              "  </tbody>\n",
              "</table>\n",
              "</div>\n",
              "      <button class=\"colab-df-convert\" onclick=\"convertToInteractive('df-6d15db82-d1b0-4e3e-b08c-cf5727ce8cc5')\"\n",
              "              title=\"Convert this dataframe to an interactive table.\"\n",
              "              style=\"display:none;\">\n",
              "\n",
              "  <svg xmlns=\"http://www.w3.org/2000/svg\" height=\"24px\"viewBox=\"0 0 24 24\"\n",
              "       width=\"24px\">\n",
              "    <path d=\"M0 0h24v24H0V0z\" fill=\"none\"/>\n",
              "    <path d=\"M18.56 5.44l.94 2.06.94-2.06 2.06-.94-2.06-.94-.94-2.06-.94 2.06-2.06.94zm-11 1L8.5 8.5l.94-2.06 2.06-.94-2.06-.94L8.5 2.5l-.94 2.06-2.06.94zm10 10l.94 2.06.94-2.06 2.06-.94-2.06-.94-.94-2.06-.94 2.06-2.06.94z\"/><path d=\"M17.41 7.96l-1.37-1.37c-.4-.4-.92-.59-1.43-.59-.52 0-1.04.2-1.43.59L10.3 9.45l-7.72 7.72c-.78.78-.78 2.05 0 2.83L4 21.41c.39.39.9.59 1.41.59.51 0 1.02-.2 1.41-.59l7.78-7.78 2.81-2.81c.8-.78.8-2.07 0-2.86zM5.41 20L4 18.59l7.72-7.72 1.47 1.35L5.41 20z\"/>\n",
              "  </svg>\n",
              "      </button>\n",
              "\n",
              "\n",
              "\n",
              "    <div id=\"df-fc2531fb-a410-44a6-beb0-28aefc5ba767\">\n",
              "      <button class=\"colab-df-quickchart\" onclick=\"quickchart('df-fc2531fb-a410-44a6-beb0-28aefc5ba767')\"\n",
              "              title=\"Suggest charts.\"\n",
              "              style=\"display:none;\">\n",
              "\n",
              "<svg xmlns=\"http://www.w3.org/2000/svg\" height=\"24px\"viewBox=\"0 0 24 24\"\n",
              "     width=\"24px\">\n",
              "    <g>\n",
              "        <path d=\"M19 3H5c-1.1 0-2 .9-2 2v14c0 1.1.9 2 2 2h14c1.1 0 2-.9 2-2V5c0-1.1-.9-2-2-2zM9 17H7v-7h2v7zm4 0h-2V7h2v10zm4 0h-2v-4h2v4z\"/>\n",
              "    </g>\n",
              "</svg>\n",
              "      </button>\n",
              "    </div>\n",
              "\n",
              "<style>\n",
              "  .colab-df-quickchart {\n",
              "    background-color: #E8F0FE;\n",
              "    border: none;\n",
              "    border-radius: 50%;\n",
              "    cursor: pointer;\n",
              "    display: none;\n",
              "    fill: #1967D2;\n",
              "    height: 32px;\n",
              "    padding: 0 0 0 0;\n",
              "    width: 32px;\n",
              "  }\n",
              "\n",
              "  .colab-df-quickchart:hover {\n",
              "    background-color: #E2EBFA;\n",
              "    box-shadow: 0px 1px 2px rgba(60, 64, 67, 0.3), 0px 1px 3px 1px rgba(60, 64, 67, 0.15);\n",
              "    fill: #174EA6;\n",
              "  }\n",
              "\n",
              "  [theme=dark] .colab-df-quickchart {\n",
              "    background-color: #3B4455;\n",
              "    fill: #D2E3FC;\n",
              "  }\n",
              "\n",
              "  [theme=dark] .colab-df-quickchart:hover {\n",
              "    background-color: #434B5C;\n",
              "    box-shadow: 0px 1px 3px 1px rgba(0, 0, 0, 0.15);\n",
              "    filter: drop-shadow(0px 1px 2px rgba(0, 0, 0, 0.3));\n",
              "    fill: #FFFFFF;\n",
              "  }\n",
              "</style>\n",
              "\n",
              "    <script>\n",
              "      async function quickchart(key) {\n",
              "        const containerElement = document.querySelector('#' + key);\n",
              "        const charts = await google.colab.kernel.invokeFunction(\n",
              "            'suggestCharts', [key], {});\n",
              "      }\n",
              "    </script>\n",
              "\n",
              "      <script>\n",
              "\n",
              "function displayQuickchartButton(domScope) {\n",
              "  let quickchartButtonEl =\n",
              "    domScope.querySelector('#df-fc2531fb-a410-44a6-beb0-28aefc5ba767 button.colab-df-quickchart');\n",
              "  quickchartButtonEl.style.display =\n",
              "    google.colab.kernel.accessAllowed ? 'block' : 'none';\n",
              "}\n",
              "\n",
              "        displayQuickchartButton(document);\n",
              "      </script>\n",
              "      <style>\n",
              "    .colab-df-container {\n",
              "      display:flex;\n",
              "      flex-wrap:wrap;\n",
              "      gap: 12px;\n",
              "    }\n",
              "\n",
              "    .colab-df-convert {\n",
              "      background-color: #E8F0FE;\n",
              "      border: none;\n",
              "      border-radius: 50%;\n",
              "      cursor: pointer;\n",
              "      display: none;\n",
              "      fill: #1967D2;\n",
              "      height: 32px;\n",
              "      padding: 0 0 0 0;\n",
              "      width: 32px;\n",
              "    }\n",
              "\n",
              "    .colab-df-convert:hover {\n",
              "      background-color: #E2EBFA;\n",
              "      box-shadow: 0px 1px 2px rgba(60, 64, 67, 0.3), 0px 1px 3px 1px rgba(60, 64, 67, 0.15);\n",
              "      fill: #174EA6;\n",
              "    }\n",
              "\n",
              "    [theme=dark] .colab-df-convert {\n",
              "      background-color: #3B4455;\n",
              "      fill: #D2E3FC;\n",
              "    }\n",
              "\n",
              "    [theme=dark] .colab-df-convert:hover {\n",
              "      background-color: #434B5C;\n",
              "      box-shadow: 0px 1px 3px 1px rgba(0, 0, 0, 0.15);\n",
              "      filter: drop-shadow(0px 1px 2px rgba(0, 0, 0, 0.3));\n",
              "      fill: #FFFFFF;\n",
              "    }\n",
              "  </style>\n",
              "\n",
              "      <script>\n",
              "        const buttonEl =\n",
              "          document.querySelector('#df-6d15db82-d1b0-4e3e-b08c-cf5727ce8cc5 button.colab-df-convert');\n",
              "        buttonEl.style.display =\n",
              "          google.colab.kernel.accessAllowed ? 'block' : 'none';\n",
              "\n",
              "        async function convertToInteractive(key) {\n",
              "          const element = document.querySelector('#df-6d15db82-d1b0-4e3e-b08c-cf5727ce8cc5');\n",
              "          const dataTable =\n",
              "            await google.colab.kernel.invokeFunction('convertToInteractive',\n",
              "                                                     [key], {});\n",
              "          if (!dataTable) return;\n",
              "\n",
              "          const docLinkHtml = 'Like what you see? Visit the ' +\n",
              "            '<a target=\"_blank\" href=https://colab.research.google.com/notebooks/data_table.ipynb>data table notebook</a>'\n",
              "            + ' to learn more about interactive tables.';\n",
              "          element.innerHTML = '';\n",
              "          dataTable['output_type'] = 'display_data';\n",
              "          await google.colab.output.renderOutput(dataTable, element);\n",
              "          const docLink = document.createElement('div');\n",
              "          docLink.innerHTML = docLinkHtml;\n",
              "          element.appendChild(docLink);\n",
              "        }\n",
              "      </script>\n",
              "    </div>\n",
              "  </div>\n"
            ]
          },
          "metadata": {},
          "execution_count": 77
        }
      ]
    },
    {
      "cell_type": "code",
      "source": [
        "# devide the dataset into independent aand dependent features\n",
        "X=dataset.iloc[:,1:10]\n",
        "y=dataset.iloc[:,10]"
      ],
      "metadata": {
        "id": "NsWQzdJK_fNG"
      },
      "execution_count": null,
      "outputs": []
    },
    {
      "cell_type": "code",
      "source": [
        "X.head()"
      ],
      "metadata": {
        "colab": {
          "base_uri": "https://localhost:8080/",
          "height": 270
        },
        "id": "GrTCf0wwAM-B",
        "outputId": "01247938-2008-4615-940a-82ec18a37f6a"
      },
      "execution_count": null,
      "outputs": [
        {
          "output_type": "execute_result",
          "data": {
            "text/plain": [
              "   clump_thickness  size_uniformity  shape_uniformity  marginal_adhesion  \\\n",
              "0                5                1                 1                  1   \n",
              "1                5                4                 4                  5   \n",
              "2                3                1                 1                  1   \n",
              "3                6                8                 8                  1   \n",
              "4                4                1                 1                  3   \n",
              "\n",
              "   epithelial_size bare_nucleoli  bland_chromatin  normal_nucleoli  mitoses  \n",
              "0                2             1                3                1        1  \n",
              "1                7            10                3                2        1  \n",
              "2                2             2                3                1        1  \n",
              "3                3             4                3                7        1  \n",
              "4                2             1                3                1        1  "
            ],
            "text/html": [
              "\n",
              "\n",
              "  <div id=\"df-e470ce28-a599-4708-8fdf-7565bfef3297\">\n",
              "    <div class=\"colab-df-container\">\n",
              "      <div>\n",
              "<style scoped>\n",
              "    .dataframe tbody tr th:only-of-type {\n",
              "        vertical-align: middle;\n",
              "    }\n",
              "\n",
              "    .dataframe tbody tr th {\n",
              "        vertical-align: top;\n",
              "    }\n",
              "\n",
              "    .dataframe thead th {\n",
              "        text-align: right;\n",
              "    }\n",
              "</style>\n",
              "<table border=\"1\" class=\"dataframe\">\n",
              "  <thead>\n",
              "    <tr style=\"text-align: right;\">\n",
              "      <th></th>\n",
              "      <th>clump_thickness</th>\n",
              "      <th>size_uniformity</th>\n",
              "      <th>shape_uniformity</th>\n",
              "      <th>marginal_adhesion</th>\n",
              "      <th>epithelial_size</th>\n",
              "      <th>bare_nucleoli</th>\n",
              "      <th>bland_chromatin</th>\n",
              "      <th>normal_nucleoli</th>\n",
              "      <th>mitoses</th>\n",
              "    </tr>\n",
              "  </thead>\n",
              "  <tbody>\n",
              "    <tr>\n",
              "      <th>0</th>\n",
              "      <td>5</td>\n",
              "      <td>1</td>\n",
              "      <td>1</td>\n",
              "      <td>1</td>\n",
              "      <td>2</td>\n",
              "      <td>1</td>\n",
              "      <td>3</td>\n",
              "      <td>1</td>\n",
              "      <td>1</td>\n",
              "    </tr>\n",
              "    <tr>\n",
              "      <th>1</th>\n",
              "      <td>5</td>\n",
              "      <td>4</td>\n",
              "      <td>4</td>\n",
              "      <td>5</td>\n",
              "      <td>7</td>\n",
              "      <td>10</td>\n",
              "      <td>3</td>\n",
              "      <td>2</td>\n",
              "      <td>1</td>\n",
              "    </tr>\n",
              "    <tr>\n",
              "      <th>2</th>\n",
              "      <td>3</td>\n",
              "      <td>1</td>\n",
              "      <td>1</td>\n",
              "      <td>1</td>\n",
              "      <td>2</td>\n",
              "      <td>2</td>\n",
              "      <td>3</td>\n",
              "      <td>1</td>\n",
              "      <td>1</td>\n",
              "    </tr>\n",
              "    <tr>\n",
              "      <th>3</th>\n",
              "      <td>6</td>\n",
              "      <td>8</td>\n",
              "      <td>8</td>\n",
              "      <td>1</td>\n",
              "      <td>3</td>\n",
              "      <td>4</td>\n",
              "      <td>3</td>\n",
              "      <td>7</td>\n",
              "      <td>1</td>\n",
              "    </tr>\n",
              "    <tr>\n",
              "      <th>4</th>\n",
              "      <td>4</td>\n",
              "      <td>1</td>\n",
              "      <td>1</td>\n",
              "      <td>3</td>\n",
              "      <td>2</td>\n",
              "      <td>1</td>\n",
              "      <td>3</td>\n",
              "      <td>1</td>\n",
              "      <td>1</td>\n",
              "    </tr>\n",
              "  </tbody>\n",
              "</table>\n",
              "</div>\n",
              "      <button class=\"colab-df-convert\" onclick=\"convertToInteractive('df-e470ce28-a599-4708-8fdf-7565bfef3297')\"\n",
              "              title=\"Convert this dataframe to an interactive table.\"\n",
              "              style=\"display:none;\">\n",
              "\n",
              "  <svg xmlns=\"http://www.w3.org/2000/svg\" height=\"24px\"viewBox=\"0 0 24 24\"\n",
              "       width=\"24px\">\n",
              "    <path d=\"M0 0h24v24H0V0z\" fill=\"none\"/>\n",
              "    <path d=\"M18.56 5.44l.94 2.06.94-2.06 2.06-.94-2.06-.94-.94-2.06-.94 2.06-2.06.94zm-11 1L8.5 8.5l.94-2.06 2.06-.94-2.06-.94L8.5 2.5l-.94 2.06-2.06.94zm10 10l.94 2.06.94-2.06 2.06-.94-2.06-.94-.94-2.06-.94 2.06-2.06.94z\"/><path d=\"M17.41 7.96l-1.37-1.37c-.4-.4-.92-.59-1.43-.59-.52 0-1.04.2-1.43.59L10.3 9.45l-7.72 7.72c-.78.78-.78 2.05 0 2.83L4 21.41c.39.39.9.59 1.41.59.51 0 1.02-.2 1.41-.59l7.78-7.78 2.81-2.81c.8-.78.8-2.07 0-2.86zM5.41 20L4 18.59l7.72-7.72 1.47 1.35L5.41 20z\"/>\n",
              "  </svg>\n",
              "      </button>\n",
              "\n",
              "\n",
              "\n",
              "    <div id=\"df-27620c6b-8aac-4932-a54c-b7b46109298d\">\n",
              "      <button class=\"colab-df-quickchart\" onclick=\"quickchart('df-27620c6b-8aac-4932-a54c-b7b46109298d')\"\n",
              "              title=\"Suggest charts.\"\n",
              "              style=\"display:none;\">\n",
              "\n",
              "<svg xmlns=\"http://www.w3.org/2000/svg\" height=\"24px\"viewBox=\"0 0 24 24\"\n",
              "     width=\"24px\">\n",
              "    <g>\n",
              "        <path d=\"M19 3H5c-1.1 0-2 .9-2 2v14c0 1.1.9 2 2 2h14c1.1 0 2-.9 2-2V5c0-1.1-.9-2-2-2zM9 17H7v-7h2v7zm4 0h-2V7h2v10zm4 0h-2v-4h2v4z\"/>\n",
              "    </g>\n",
              "</svg>\n",
              "      </button>\n",
              "    </div>\n",
              "\n",
              "<style>\n",
              "  .colab-df-quickchart {\n",
              "    background-color: #E8F0FE;\n",
              "    border: none;\n",
              "    border-radius: 50%;\n",
              "    cursor: pointer;\n",
              "    display: none;\n",
              "    fill: #1967D2;\n",
              "    height: 32px;\n",
              "    padding: 0 0 0 0;\n",
              "    width: 32px;\n",
              "  }\n",
              "\n",
              "  .colab-df-quickchart:hover {\n",
              "    background-color: #E2EBFA;\n",
              "    box-shadow: 0px 1px 2px rgba(60, 64, 67, 0.3), 0px 1px 3px 1px rgba(60, 64, 67, 0.15);\n",
              "    fill: #174EA6;\n",
              "  }\n",
              "\n",
              "  [theme=dark] .colab-df-quickchart {\n",
              "    background-color: #3B4455;\n",
              "    fill: #D2E3FC;\n",
              "  }\n",
              "\n",
              "  [theme=dark] .colab-df-quickchart:hover {\n",
              "    background-color: #434B5C;\n",
              "    box-shadow: 0px 1px 3px 1px rgba(0, 0, 0, 0.15);\n",
              "    filter: drop-shadow(0px 1px 2px rgba(0, 0, 0, 0.3));\n",
              "    fill: #FFFFFF;\n",
              "  }\n",
              "</style>\n",
              "\n",
              "    <script>\n",
              "      async function quickchart(key) {\n",
              "        const containerElement = document.querySelector('#' + key);\n",
              "        const charts = await google.colab.kernel.invokeFunction(\n",
              "            'suggestCharts', [key], {});\n",
              "      }\n",
              "    </script>\n",
              "\n",
              "      <script>\n",
              "\n",
              "function displayQuickchartButton(domScope) {\n",
              "  let quickchartButtonEl =\n",
              "    domScope.querySelector('#df-27620c6b-8aac-4932-a54c-b7b46109298d button.colab-df-quickchart');\n",
              "  quickchartButtonEl.style.display =\n",
              "    google.colab.kernel.accessAllowed ? 'block' : 'none';\n",
              "}\n",
              "\n",
              "        displayQuickchartButton(document);\n",
              "      </script>\n",
              "      <style>\n",
              "    .colab-df-container {\n",
              "      display:flex;\n",
              "      flex-wrap:wrap;\n",
              "      gap: 12px;\n",
              "    }\n",
              "\n",
              "    .colab-df-convert {\n",
              "      background-color: #E8F0FE;\n",
              "      border: none;\n",
              "      border-radius: 50%;\n",
              "      cursor: pointer;\n",
              "      display: none;\n",
              "      fill: #1967D2;\n",
              "      height: 32px;\n",
              "      padding: 0 0 0 0;\n",
              "      width: 32px;\n",
              "    }\n",
              "\n",
              "    .colab-df-convert:hover {\n",
              "      background-color: #E2EBFA;\n",
              "      box-shadow: 0px 1px 2px rgba(60, 64, 67, 0.3), 0px 1px 3px 1px rgba(60, 64, 67, 0.15);\n",
              "      fill: #174EA6;\n",
              "    }\n",
              "\n",
              "    [theme=dark] .colab-df-convert {\n",
              "      background-color: #3B4455;\n",
              "      fill: #D2E3FC;\n",
              "    }\n",
              "\n",
              "    [theme=dark] .colab-df-convert:hover {\n",
              "      background-color: #434B5C;\n",
              "      box-shadow: 0px 1px 3px 1px rgba(0, 0, 0, 0.15);\n",
              "      filter: drop-shadow(0px 1px 2px rgba(0, 0, 0, 0.3));\n",
              "      fill: #FFFFFF;\n",
              "    }\n",
              "  </style>\n",
              "\n",
              "      <script>\n",
              "        const buttonEl =\n",
              "          document.querySelector('#df-e470ce28-a599-4708-8fdf-7565bfef3297 button.colab-df-convert');\n",
              "        buttonEl.style.display =\n",
              "          google.colab.kernel.accessAllowed ? 'block' : 'none';\n",
              "\n",
              "        async function convertToInteractive(key) {\n",
              "          const element = document.querySelector('#df-e470ce28-a599-4708-8fdf-7565bfef3297');\n",
              "          const dataTable =\n",
              "            await google.colab.kernel.invokeFunction('convertToInteractive',\n",
              "                                                     [key], {});\n",
              "          if (!dataTable) return;\n",
              "\n",
              "          const docLinkHtml = 'Like what you see? Visit the ' +\n",
              "            '<a target=\"_blank\" href=https://colab.research.google.com/notebooks/data_table.ipynb>data table notebook</a>'\n",
              "            + ' to learn more about interactive tables.';\n",
              "          element.innerHTML = '';\n",
              "          dataTable['output_type'] = 'display_data';\n",
              "          await google.colab.output.renderOutput(dataTable, element);\n",
              "          const docLink = document.createElement('div');\n",
              "          docLink.innerHTML = docLinkHtml;\n",
              "          element.appendChild(docLink);\n",
              "        }\n",
              "      </script>\n",
              "    </div>\n",
              "  </div>\n"
            ]
          },
          "metadata": {},
          "execution_count": 79
        }
      ]
    },
    {
      "cell_type": "code",
      "source": [
        "y"
      ],
      "metadata": {
        "colab": {
          "base_uri": "https://localhost:8080/"
        },
        "id": "nPCcVm9uARfw",
        "outputId": "9f8afb37-2f4d-4866-c486-2cd6155b1029"
      },
      "execution_count": null,
      "outputs": [
        {
          "output_type": "execute_result",
          "data": {
            "text/plain": [
              "0      2\n",
              "1      2\n",
              "2      2\n",
              "3      2\n",
              "4      2\n",
              "      ..\n",
              "694    2\n",
              "695    2\n",
              "696    4\n",
              "697    4\n",
              "698    4\n",
              "Name: class, Length: 699, dtype: int64"
            ]
          },
          "metadata": {},
          "execution_count": 80
        }
      ]
    },
    {
      "cell_type": "code",
      "source": [
        "# Feature Engineering\n",
        "i =pd.get_dummies(X['epithelial_size'],drop_first=True)\n",
        "l=pd.get_dummies(X['marginal_adhesion'],drop_first=True)"
      ],
      "metadata": {
        "id": "GaZXeLU4A2V7"
      },
      "execution_count": null,
      "outputs": []
    },
    {
      "cell_type": "code",
      "source": [
        "# Concatinate variables with dataframe\n",
        "X=X.drop(['epithelial_size','marginal_adhesion'],axis=1)"
      ],
      "metadata": {
        "id": "4_y37rMCDrNC"
      },
      "execution_count": null,
      "outputs": []
    },
    {
      "cell_type": "code",
      "source": [
        "X.head()"
      ],
      "metadata": {
        "id": "-H1Dur2sEVcE",
        "colab": {
          "base_uri": "https://localhost:8080/",
          "height": 206
        },
        "outputId": "8e3578d8-3741-4e1e-bd77-f3f24b23df72"
      },
      "execution_count": null,
      "outputs": [
        {
          "output_type": "execute_result",
          "data": {
            "text/plain": [
              "   clump_thickness  size_uniformity  shape_uniformity  bland_chromatin  \\\n",
              "0                5                1                 1                3   \n",
              "1                5                4                 4                3   \n",
              "2                3                1                 1                3   \n",
              "3                6                8                 8                3   \n",
              "4                4                1                 1                3   \n",
              "\n",
              "   mitoses  \n",
              "0        1  \n",
              "1        1  \n",
              "2        1  \n",
              "3        1  \n",
              "4        1  "
            ],
            "text/html": [
              "\n",
              "\n",
              "  <div id=\"df-8072b63c-c5f0-4137-be67-5291458c9cf7\">\n",
              "    <div class=\"colab-df-container\">\n",
              "      <div>\n",
              "<style scoped>\n",
              "    .dataframe tbody tr th:only-of-type {\n",
              "        vertical-align: middle;\n",
              "    }\n",
              "\n",
              "    .dataframe tbody tr th {\n",
              "        vertical-align: top;\n",
              "    }\n",
              "\n",
              "    .dataframe thead th {\n",
              "        text-align: right;\n",
              "    }\n",
              "</style>\n",
              "<table border=\"1\" class=\"dataframe\">\n",
              "  <thead>\n",
              "    <tr style=\"text-align: right;\">\n",
              "      <th></th>\n",
              "      <th>clump_thickness</th>\n",
              "      <th>size_uniformity</th>\n",
              "      <th>shape_uniformity</th>\n",
              "      <th>bland_chromatin</th>\n",
              "      <th>mitoses</th>\n",
              "    </tr>\n",
              "  </thead>\n",
              "  <tbody>\n",
              "    <tr>\n",
              "      <th>0</th>\n",
              "      <td>5</td>\n",
              "      <td>1</td>\n",
              "      <td>1</td>\n",
              "      <td>3</td>\n",
              "      <td>1</td>\n",
              "    </tr>\n",
              "    <tr>\n",
              "      <th>1</th>\n",
              "      <td>5</td>\n",
              "      <td>4</td>\n",
              "      <td>4</td>\n",
              "      <td>3</td>\n",
              "      <td>1</td>\n",
              "    </tr>\n",
              "    <tr>\n",
              "      <th>2</th>\n",
              "      <td>3</td>\n",
              "      <td>1</td>\n",
              "      <td>1</td>\n",
              "      <td>3</td>\n",
              "      <td>1</td>\n",
              "    </tr>\n",
              "    <tr>\n",
              "      <th>3</th>\n",
              "      <td>6</td>\n",
              "      <td>8</td>\n",
              "      <td>8</td>\n",
              "      <td>3</td>\n",
              "      <td>1</td>\n",
              "    </tr>\n",
              "    <tr>\n",
              "      <th>4</th>\n",
              "      <td>4</td>\n",
              "      <td>1</td>\n",
              "      <td>1</td>\n",
              "      <td>3</td>\n",
              "      <td>1</td>\n",
              "    </tr>\n",
              "  </tbody>\n",
              "</table>\n",
              "</div>\n",
              "      <button class=\"colab-df-convert\" onclick=\"convertToInteractive('df-8072b63c-c5f0-4137-be67-5291458c9cf7')\"\n",
              "              title=\"Convert this dataframe to an interactive table.\"\n",
              "              style=\"display:none;\">\n",
              "\n",
              "  <svg xmlns=\"http://www.w3.org/2000/svg\" height=\"24px\"viewBox=\"0 0 24 24\"\n",
              "       width=\"24px\">\n",
              "    <path d=\"M0 0h24v24H0V0z\" fill=\"none\"/>\n",
              "    <path d=\"M18.56 5.44l.94 2.06.94-2.06 2.06-.94-2.06-.94-.94-2.06-.94 2.06-2.06.94zm-11 1L8.5 8.5l.94-2.06 2.06-.94-2.06-.94L8.5 2.5l-.94 2.06-2.06.94zm10 10l.94 2.06.94-2.06 2.06-.94-2.06-.94-.94-2.06-.94 2.06-2.06.94z\"/><path d=\"M17.41 7.96l-1.37-1.37c-.4-.4-.92-.59-1.43-.59-.52 0-1.04.2-1.43.59L10.3 9.45l-7.72 7.72c-.78.78-.78 2.05 0 2.83L4 21.41c.39.39.9.59 1.41.59.51 0 1.02-.2 1.41-.59l7.78-7.78 2.81-2.81c.8-.78.8-2.07 0-2.86zM5.41 20L4 18.59l7.72-7.72 1.47 1.35L5.41 20z\"/>\n",
              "  </svg>\n",
              "      </button>\n",
              "\n",
              "\n",
              "\n",
              "    <div id=\"df-5d7d151c-6c75-4681-8dfa-ed35c3f38c16\">\n",
              "      <button class=\"colab-df-quickchart\" onclick=\"quickchart('df-5d7d151c-6c75-4681-8dfa-ed35c3f38c16')\"\n",
              "              title=\"Suggest charts.\"\n",
              "              style=\"display:none;\">\n",
              "\n",
              "<svg xmlns=\"http://www.w3.org/2000/svg\" height=\"24px\"viewBox=\"0 0 24 24\"\n",
              "     width=\"24px\">\n",
              "    <g>\n",
              "        <path d=\"M19 3H5c-1.1 0-2 .9-2 2v14c0 1.1.9 2 2 2h14c1.1 0 2-.9 2-2V5c0-1.1-.9-2-2-2zM9 17H7v-7h2v7zm4 0h-2V7h2v10zm4 0h-2v-4h2v4z\"/>\n",
              "    </g>\n",
              "</svg>\n",
              "      </button>\n",
              "    </div>\n",
              "\n",
              "<style>\n",
              "  .colab-df-quickchart {\n",
              "    background-color: #E8F0FE;\n",
              "    border: none;\n",
              "    border-radius: 50%;\n",
              "    cursor: pointer;\n",
              "    display: none;\n",
              "    fill: #1967D2;\n",
              "    height: 32px;\n",
              "    padding: 0 0 0 0;\n",
              "    width: 32px;\n",
              "  }\n",
              "\n",
              "  .colab-df-quickchart:hover {\n",
              "    background-color: #E2EBFA;\n",
              "    box-shadow: 0px 1px 2px rgba(60, 64, 67, 0.3), 0px 1px 3px 1px rgba(60, 64, 67, 0.15);\n",
              "    fill: #174EA6;\n",
              "  }\n",
              "\n",
              "  [theme=dark] .colab-df-quickchart {\n",
              "    background-color: #3B4455;\n",
              "    fill: #D2E3FC;\n",
              "  }\n",
              "\n",
              "  [theme=dark] .colab-df-quickchart:hover {\n",
              "    background-color: #434B5C;\n",
              "    box-shadow: 0px 1px 3px 1px rgba(0, 0, 0, 0.15);\n",
              "    filter: drop-shadow(0px 1px 2px rgba(0, 0, 0, 0.3));\n",
              "    fill: #FFFFFF;\n",
              "  }\n",
              "</style>\n",
              "\n",
              "    <script>\n",
              "      async function quickchart(key) {\n",
              "        const containerElement = document.querySelector('#' + key);\n",
              "        const charts = await google.colab.kernel.invokeFunction(\n",
              "            'suggestCharts', [key], {});\n",
              "      }\n",
              "    </script>\n",
              "\n",
              "      <script>\n",
              "\n",
              "function displayQuickchartButton(domScope) {\n",
              "  let quickchartButtonEl =\n",
              "    domScope.querySelector('#df-5d7d151c-6c75-4681-8dfa-ed35c3f38c16 button.colab-df-quickchart');\n",
              "  quickchartButtonEl.style.display =\n",
              "    google.colab.kernel.accessAllowed ? 'block' : 'none';\n",
              "}\n",
              "\n",
              "        displayQuickchartButton(document);\n",
              "      </script>\n",
              "      <style>\n",
              "    .colab-df-container {\n",
              "      display:flex;\n",
              "      flex-wrap:wrap;\n",
              "      gap: 12px;\n",
              "    }\n",
              "\n",
              "    .colab-df-convert {\n",
              "      background-color: #E8F0FE;\n",
              "      border: none;\n",
              "      border-radius: 50%;\n",
              "      cursor: pointer;\n",
              "      display: none;\n",
              "      fill: #1967D2;\n",
              "      height: 32px;\n",
              "      padding: 0 0 0 0;\n",
              "      width: 32px;\n",
              "    }\n",
              "\n",
              "    .colab-df-convert:hover {\n",
              "      background-color: #E2EBFA;\n",
              "      box-shadow: 0px 1px 2px rgba(60, 64, 67, 0.3), 0px 1px 3px 1px rgba(60, 64, 67, 0.15);\n",
              "      fill: #174EA6;\n",
              "    }\n",
              "\n",
              "    [theme=dark] .colab-df-convert {\n",
              "      background-color: #3B4455;\n",
              "      fill: #D2E3FC;\n",
              "    }\n",
              "\n",
              "    [theme=dark] .colab-df-convert:hover {\n",
              "      background-color: #434B5C;\n",
              "      box-shadow: 0px 1px 3px 1px rgba(0, 0, 0, 0.15);\n",
              "      filter: drop-shadow(0px 1px 2px rgba(0, 0, 0, 0.3));\n",
              "      fill: #FFFFFF;\n",
              "    }\n",
              "  </style>\n",
              "\n",
              "      <script>\n",
              "        const buttonEl =\n",
              "          document.querySelector('#df-8072b63c-c5f0-4137-be67-5291458c9cf7 button.colab-df-convert');\n",
              "        buttonEl.style.display =\n",
              "          google.colab.kernel.accessAllowed ? 'block' : 'none';\n",
              "\n",
              "        async function convertToInteractive(key) {\n",
              "          const element = document.querySelector('#df-8072b63c-c5f0-4137-be67-5291458c9cf7');\n",
              "          const dataTable =\n",
              "            await google.colab.kernel.invokeFunction('convertToInteractive',\n",
              "                                                     [key], {});\n",
              "          if (!dataTable) return;\n",
              "\n",
              "          const docLinkHtml = 'Like what you see? Visit the ' +\n",
              "            '<a target=\"_blank\" href=https://colab.research.google.com/notebooks/data_table.ipynb>data table notebook</a>'\n",
              "            + ' to learn more about interactive tables.';\n",
              "          element.innerHTML = '';\n",
              "          dataTable['output_type'] = 'display_data';\n",
              "          await google.colab.output.renderOutput(dataTable, element);\n",
              "          const docLink = document.createElement('div');\n",
              "          docLink.innerHTML = docLinkHtml;\n",
              "          element.appendChild(docLink);\n",
              "        }\n",
              "      </script>\n",
              "    </div>\n",
              "  </div>\n"
            ]
          },
          "metadata": {},
          "execution_count": 30
        }
      ]
    },
    {
      "cell_type": "code",
      "source": [
        "X=pd.concat([X,i,l],axis=1)"
      ],
      "metadata": {
        "id": "ikvoqugnEyST"
      },
      "execution_count": null,
      "outputs": []
    },
    {
      "cell_type": "code",
      "source": [
        "# spliting dataset in to training set and test set\n",
        "from sklearn.model_selection import train_test_split\n",
        "\n",
        "X_train,X_test,y_train,y_test=train_test_split(X,y,test_size=0.2,random_state=0)"
      ],
      "metadata": {
        "id": "JHoNHe_FH0pu"
      },
      "execution_count": null,
      "outputs": []
    },
    {
      "cell_type": "code",
      "source": [
        "X_train.shape"
      ],
      "metadata": {
        "colab": {
          "base_uri": "https://localhost:8080/"
        },
        "id": "FhC_KOhzbkrt",
        "outputId": "6abf88b1-7094-49b8-b36f-4f381633ac3a"
      },
      "execution_count": null,
      "outputs": [
        {
          "output_type": "execute_result",
          "data": {
            "text/plain": [
              "(559, 41)"
            ]
          },
          "metadata": {},
          "execution_count": 36
        }
      ]
    },
    {
      "cell_type": "code",
      "source": [
        "y_train.shape"
      ],
      "metadata": {
        "colab": {
          "base_uri": "https://localhost:8080/"
        },
        "id": "aEKkotng7z4E",
        "outputId": "fbc1f6b8-c3e9-4e5a-9f58-3f1f907ce1a8"
      },
      "execution_count": null,
      "outputs": [
        {
          "output_type": "execute_result",
          "data": {
            "text/plain": [
              "(559,)"
            ]
          },
          "metadata": {},
          "execution_count": 37
        }
      ]
    },
    {
      "cell_type": "code",
      "source": [
        "!pip install tensorflow\n",
        "!pip3 install tensorflow\n",
        "\n",
        "from tensorflow import keras"
      ],
      "metadata": {
        "id": "MQt9aUGveVLR"
      },
      "execution_count": null,
      "outputs": []
    },
    {
      "cell_type": "code",
      "source": [
        "import numpy\n",
        "import keras.models"
      ],
      "metadata": {
        "id": "-2JuDtk7hAnr"
      },
      "execution_count": null,
      "outputs": []
    },
    {
      "cell_type": "code",
      "source": [
        "# creat The ANN\n",
        "from tensorflow.keras.models import Sequential\n",
        "from tensorflow.keras.layers import Dense\n",
        "from tensorflow.keras.layers import LeakyReLU,PReLU,ELU,ReLU\n",
        "from tensorflow.keras.layers import Dropout"
      ],
      "metadata": {
        "id": "NQ1-337zcmhr"
      },
      "execution_count": null,
      "outputs": []
    },
    {
      "cell_type": "code",
      "source": [
        "##lets initialize the ANN\n",
        "classifier=Sequential()"
      ],
      "metadata": {
        "id": "YgMamfmngYtO"
      },
      "execution_count": null,
      "outputs": []
    },
    {
      "cell_type": "code",
      "source": [
        "# adding the input layer\n",
        "classifier.add(Dense(units=25,activation='relu'))"
      ],
      "metadata": {
        "id": "ztjg42l9svlJ"
      },
      "execution_count": null,
      "outputs": []
    },
    {
      "cell_type": "code",
      "source": [
        "# adding first hidden layer\n",
        "classifier.add(Dense(units=15,activation='relu'))"
      ],
      "metadata": {
        "id": "OXfUrPMIt7L1"
      },
      "execution_count": null,
      "outputs": []
    },
    {
      "cell_type": "code",
      "source": [
        "# adding second hidden layer\n",
        "classifier.add(Dense(units=14,activation='relu'))"
      ],
      "metadata": {
        "id": "aiJfGzYnuHWF"
      },
      "execution_count": null,
      "outputs": []
    },
    {
      "cell_type": "code",
      "source": [
        "# adding the output layer\n",
        "classifier.add(Dense(1,activation='sigmoid'))"
      ],
      "metadata": {
        "id": "uXvO8VAAuQqs"
      },
      "execution_count": null,
      "outputs": []
    },
    {
      "cell_type": "code",
      "source": [
        "classifier.compile(optimizer=opt,loss='binary_crossentropy',metrics=['accuracy'])"
      ],
      "metadata": {
        "id": "XAlyiARTyPq9"
      },
      "execution_count": null,
      "outputs": []
    },
    {
      "cell_type": "code",
      "source": [
        "import tensorflow\n",
        "opt=tensorflow.keras.optimizers.Adam(learning_rate=0.01)"
      ],
      "metadata": {
        "id": "v2JGAGR3zHLT"
      },
      "execution_count": null,
      "outputs": []
    },
    {
      "cell_type": "code",
      "source": [
        "!pip install tensor"
      ],
      "metadata": {
        "id": "lz6DIAurGYVC"
      },
      "execution_count": null,
      "outputs": []
    },
    {
      "cell_type": "code",
      "source": [
        "model_history=classifier.fit(X_train,y_train,validation_split=0.33,batch_size=10,epochs=80)"
      ],
      "metadata": {
        "colab": {
          "base_uri": "https://localhost:8080/"
        },
        "id": "v0K9xEWNz9FZ",
        "outputId": "c7c8d7b1-a914-4d97-ff08-bb19c5f57272"
      },
      "execution_count": null,
      "outputs": [
        {
          "output_type": "stream",
          "name": "stdout",
          "text": [
            "Epoch 1/80\n",
            "38/38 [==============================] - 11s 17ms/step - loss: -154.7847 - accuracy: 0.0000e+00 - val_loss: -899.0988 - val_accuracy: 0.0000e+00\n",
            "Epoch 2/80\n",
            "38/38 [==============================] - 0s 10ms/step - loss: -12237.5938 - accuracy: 0.0000e+00 - val_loss: -38516.8984 - val_accuracy: 0.0000e+00\n",
            "Epoch 3/80\n",
            "38/38 [==============================] - 0s 6ms/step - loss: -165954.7656 - accuracy: 0.0000e+00 - val_loss: -367180.6562 - val_accuracy: 0.0000e+00\n",
            "Epoch 4/80\n",
            "38/38 [==============================] - 0s 5ms/step - loss: -947169.4375 - accuracy: 0.0000e+00 - val_loss: -1694236.8750 - val_accuracy: 0.0000e+00\n",
            "Epoch 5/80\n",
            "38/38 [==============================] - 0s 5ms/step - loss: -3459782.5000 - accuracy: 0.0000e+00 - val_loss: -5371884.5000 - val_accuracy: 0.0000e+00\n",
            "Epoch 6/80\n",
            "38/38 [==============================] - 0s 5ms/step - loss: -9517457.0000 - accuracy: 0.0000e+00 - val_loss: -13233567.0000 - val_accuracy: 0.0000e+00\n",
            "Epoch 7/80\n",
            "38/38 [==============================] - 0s 6ms/step - loss: -21377790.0000 - accuracy: 0.0000e+00 - val_loss: -27554802.0000 - val_accuracy: 0.0000e+00\n",
            "Epoch 8/80\n",
            "38/38 [==============================] - 0s 5ms/step - loss: -41514892.0000 - accuracy: 0.0000e+00 - val_loss: -51372172.0000 - val_accuracy: 0.0000e+00\n",
            "Epoch 9/80\n",
            "38/38 [==============================] - 0s 5ms/step - loss: -73351416.0000 - accuracy: 0.0000e+00 - val_loss: -87589432.0000 - val_accuracy: 0.0000e+00\n",
            "Epoch 10/80\n",
            "38/38 [==============================] - 0s 5ms/step - loss: -121985112.0000 - accuracy: 0.0000e+00 - val_loss: -139697648.0000 - val_accuracy: 0.0000e+00\n",
            "Epoch 11/80\n",
            "38/38 [==============================] - 0s 6ms/step - loss: -189292848.0000 - accuracy: 0.0000e+00 - val_loss: -214663152.0000 - val_accuracy: 0.0000e+00\n",
            "Epoch 12/80\n",
            "38/38 [==============================] - 0s 6ms/step - loss: -282622080.0000 - accuracy: 0.0000e+00 - val_loss: -312398080.0000 - val_accuracy: 0.0000e+00\n",
            "Epoch 13/80\n",
            "38/38 [==============================] - 0s 5ms/step - loss: -406578016.0000 - accuracy: 0.0000e+00 - val_loss: -443073440.0000 - val_accuracy: 0.0000e+00\n",
            "Epoch 14/80\n",
            "38/38 [==============================] - 0s 6ms/step - loss: -565579712.0000 - accuracy: 0.0000e+00 - val_loss: -608441920.0000 - val_accuracy: 0.0000e+00\n",
            "Epoch 15/80\n",
            "38/38 [==============================] - 0s 5ms/step - loss: -766986304.0000 - accuracy: 0.0000e+00 - val_loss: -811648128.0000 - val_accuracy: 0.0000e+00\n",
            "Epoch 16/80\n",
            "38/38 [==============================] - 0s 5ms/step - loss: -1007842240.0000 - accuracy: 0.0000e+00 - val_loss: -1061339136.0000 - val_accuracy: 0.0000e+00\n",
            "Epoch 17/80\n",
            "38/38 [==============================] - 0s 5ms/step - loss: -1305685248.0000 - accuracy: 0.0000e+00 - val_loss: -1356804480.0000 - val_accuracy: 0.0000e+00\n",
            "Epoch 18/80\n",
            "38/38 [==============================] - 0s 5ms/step - loss: -1659314688.0000 - accuracy: 0.0000e+00 - val_loss: -1720268160.0000 - val_accuracy: 0.0000e+00\n",
            "Epoch 19/80\n",
            "38/38 [==============================] - 0s 6ms/step - loss: -2085837056.0000 - accuracy: 0.0000e+00 - val_loss: -2140936448.0000 - val_accuracy: 0.0000e+00\n",
            "Epoch 20/80\n",
            "38/38 [==============================] - 0s 6ms/step - loss: -2579191296.0000 - accuracy: 0.0000e+00 - val_loss: -2635888640.0000 - val_accuracy: 0.0000e+00\n",
            "Epoch 21/80\n",
            "38/38 [==============================] - 0s 5ms/step - loss: -3163303936.0000 - accuracy: 0.0000e+00 - val_loss: -3201220352.0000 - val_accuracy: 0.0000e+00\n",
            "Epoch 22/80\n",
            "38/38 [==============================] - 0s 5ms/step - loss: -3834258432.0000 - accuracy: 0.0000e+00 - val_loss: -3873871872.0000 - val_accuracy: 0.0000e+00\n",
            "Epoch 23/80\n",
            "38/38 [==============================] - 0s 6ms/step - loss: -4608630272.0000 - accuracy: 0.0000e+00 - val_loss: -4627045888.0000 - val_accuracy: 0.0000e+00\n",
            "Epoch 24/80\n",
            "38/38 [==============================] - 0s 6ms/step - loss: -5472034304.0000 - accuracy: 0.0000e+00 - val_loss: -5469673472.0000 - val_accuracy: 0.0000e+00\n",
            "Epoch 25/80\n",
            "38/38 [==============================] - 0s 6ms/step - loss: -6442211328.0000 - accuracy: 0.0000e+00 - val_loss: -6421731840.0000 - val_accuracy: 0.0000e+00\n",
            "Epoch 26/80\n",
            "38/38 [==============================] - 0s 5ms/step - loss: -7515932672.0000 - accuracy: 0.0000e+00 - val_loss: -7469909504.0000 - val_accuracy: 0.0000e+00\n",
            "Epoch 27/80\n",
            "38/38 [==============================] - 0s 5ms/step - loss: -8733553664.0000 - accuracy: 0.0000e+00 - val_loss: -8640139264.0000 - val_accuracy: 0.0000e+00\n",
            "Epoch 28/80\n",
            "38/38 [==============================] - 0s 5ms/step - loss: -10077815808.0000 - accuracy: 0.0000e+00 - val_loss: -9922162688.0000 - val_accuracy: 0.0000e+00\n",
            "Epoch 29/80\n",
            "38/38 [==============================] - 0s 5ms/step - loss: -11547071488.0000 - accuracy: 0.0000e+00 - val_loss: -11378082816.0000 - val_accuracy: 0.0000e+00\n",
            "Epoch 30/80\n",
            "38/38 [==============================] - 0s 6ms/step - loss: -13177181184.0000 - accuracy: 0.0000e+00 - val_loss: -12907298816.0000 - val_accuracy: 0.0000e+00\n",
            "Epoch 31/80\n",
            "38/38 [==============================] - 0s 6ms/step - loss: -14944232448.0000 - accuracy: 0.0000e+00 - val_loss: -14580606976.0000 - val_accuracy: 0.0000e+00\n",
            "Epoch 32/80\n",
            "38/38 [==============================] - 0s 5ms/step - loss: -16894019584.0000 - accuracy: 0.0000e+00 - val_loss: -16489281536.0000 - val_accuracy: 0.0000e+00\n",
            "Epoch 33/80\n",
            "38/38 [==============================] - 0s 5ms/step - loss: -19006582784.0000 - accuracy: 0.0000e+00 - val_loss: -18526330880.0000 - val_accuracy: 0.0000e+00\n",
            "Epoch 34/80\n",
            "38/38 [==============================] - 0s 5ms/step - loss: -21295656960.0000 - accuracy: 0.0000e+00 - val_loss: -20702830592.0000 - val_accuracy: 0.0000e+00\n",
            "Epoch 35/80\n",
            "38/38 [==============================] - 0s 5ms/step - loss: -23776706560.0000 - accuracy: 0.0000e+00 - val_loss: -23066388480.0000 - val_accuracy: 0.0000e+00\n",
            "Epoch 36/80\n",
            "38/38 [==============================] - 0s 5ms/step - loss: -26475497472.0000 - accuracy: 0.0000e+00 - val_loss: -25607792640.0000 - val_accuracy: 0.0000e+00\n",
            "Epoch 37/80\n",
            "38/38 [==============================] - 0s 5ms/step - loss: -29345859584.0000 - accuracy: 0.0000e+00 - val_loss: -28391235584.0000 - val_accuracy: 0.0000e+00\n",
            "Epoch 38/80\n",
            "38/38 [==============================] - 0s 5ms/step - loss: -32466683904.0000 - accuracy: 0.0000e+00 - val_loss: -31308589056.0000 - val_accuracy: 0.0000e+00\n",
            "Epoch 39/80\n",
            "38/38 [==============================] - 0s 5ms/step - loss: -35767644160.0000 - accuracy: 0.0000e+00 - val_loss: -34447421440.0000 - val_accuracy: 0.0000e+00\n",
            "Epoch 40/80\n",
            "38/38 [==============================] - 0s 5ms/step - loss: -39289860096.0000 - accuracy: 0.0000e+00 - val_loss: -37803761664.0000 - val_accuracy: 0.0000e+00\n",
            "Epoch 41/80\n",
            "38/38 [==============================] - 0s 5ms/step - loss: -43042189312.0000 - accuracy: 0.0000e+00 - val_loss: -41397059584.0000 - val_accuracy: 0.0000e+00\n",
            "Epoch 42/80\n",
            "38/38 [==============================] - 0s 5ms/step - loss: -47103131648.0000 - accuracy: 0.0000e+00 - val_loss: -45264334848.0000 - val_accuracy: 0.0000e+00\n",
            "Epoch 43/80\n",
            "38/38 [==============================] - 0s 8ms/step - loss: -51368525824.0000 - accuracy: 0.0000e+00 - val_loss: -49252368384.0000 - val_accuracy: 0.0000e+00\n",
            "Epoch 44/80\n",
            "38/38 [==============================] - 0s 8ms/step - loss: -55871864832.0000 - accuracy: 0.0000e+00 - val_loss: -53430435840.0000 - val_accuracy: 0.0000e+00\n",
            "Epoch 45/80\n",
            "38/38 [==============================] - 0s 8ms/step - loss: -60599263232.0000 - accuracy: 0.0000e+00 - val_loss: -57933479936.0000 - val_accuracy: 0.0000e+00\n",
            "Epoch 46/80\n",
            "38/38 [==============================] - 0s 9ms/step - loss: -65635536896.0000 - accuracy: 0.0000e+00 - val_loss: -62774636544.0000 - val_accuracy: 0.0000e+00\n",
            "Epoch 47/80\n",
            "38/38 [==============================] - 0s 7ms/step - loss: -71004643328.0000 - accuracy: 0.0000e+00 - val_loss: -67661111296.0000 - val_accuracy: 0.0000e+00\n",
            "Epoch 48/80\n",
            "38/38 [==============================] - 0s 10ms/step - loss: -76472074240.0000 - accuracy: 0.0000e+00 - val_loss: -72799993856.0000 - val_accuracy: 0.0000e+00\n",
            "Epoch 49/80\n",
            "38/38 [==============================] - 0s 11ms/step - loss: -82328920064.0000 - accuracy: 0.0000e+00 - val_loss: -78300225536.0000 - val_accuracy: 0.0000e+00\n",
            "Epoch 50/80\n",
            "38/38 [==============================] - 0s 7ms/step - loss: -88344698880.0000 - accuracy: 0.0000e+00 - val_loss: -84137910272.0000 - val_accuracy: 0.0000e+00\n",
            "Epoch 51/80\n",
            "38/38 [==============================] - 0s 8ms/step - loss: -94733664256.0000 - accuracy: 0.0000e+00 - val_loss: -90054918144.0000 - val_accuracy: 0.0000e+00\n",
            "Epoch 52/80\n",
            "38/38 [==============================] - 0s 10ms/step - loss: -101469143040.0000 - accuracy: 0.0000e+00 - val_loss: -96238960640.0000 - val_accuracy: 0.0000e+00\n",
            "Epoch 53/80\n",
            "38/38 [==============================] - 0s 8ms/step - loss: -108506152960.0000 - accuracy: 0.0000e+00 - val_loss: -103177641984.0000 - val_accuracy: 0.0000e+00\n",
            "Epoch 54/80\n",
            "38/38 [==============================] - 0s 6ms/step - loss: -115908091904.0000 - accuracy: 0.0000e+00 - val_loss: -110080974848.0000 - val_accuracy: 0.0000e+00\n",
            "Epoch 55/80\n",
            "38/38 [==============================] - 0s 6ms/step - loss: -123648778240.0000 - accuracy: 0.0000e+00 - val_loss: -117013790720.0000 - val_accuracy: 0.0000e+00\n",
            "Epoch 56/80\n",
            "38/38 [==============================] - 0s 6ms/step - loss: -131560153088.0000 - accuracy: 0.0000e+00 - val_loss: -124749914112.0000 - val_accuracy: 0.0000e+00\n",
            "Epoch 57/80\n",
            "38/38 [==============================] - 0s 5ms/step - loss: -139914723328.0000 - accuracy: 0.0000e+00 - val_loss: -132565581824.0000 - val_accuracy: 0.0000e+00\n",
            "Epoch 58/80\n",
            "38/38 [==============================] - 0s 6ms/step - loss: -148586545152.0000 - accuracy: 0.0000e+00 - val_loss: -140652085248.0000 - val_accuracy: 0.0000e+00\n",
            "Epoch 59/80\n",
            "38/38 [==============================] - 0s 5ms/step - loss: -157643751424.0000 - accuracy: 0.0000e+00 - val_loss: -149119074304.0000 - val_accuracy: 0.0000e+00\n",
            "Epoch 60/80\n",
            "38/38 [==============================] - 0s 5ms/step - loss: -167123550208.0000 - accuracy: 0.0000e+00 - val_loss: -157903568896.0000 - val_accuracy: 0.0000e+00\n",
            "Epoch 61/80\n",
            "38/38 [==============================] - 0s 5ms/step - loss: -176924262400.0000 - accuracy: 0.0000e+00 - val_loss: -167045758976.0000 - val_accuracy: 0.0000e+00\n",
            "Epoch 62/80\n",
            "38/38 [==============================] - 0s 5ms/step - loss: -187108245504.0000 - accuracy: 0.0000e+00 - val_loss: -176694755328.0000 - val_accuracy: 0.0000e+00\n",
            "Epoch 63/80\n",
            "38/38 [==============================] - 0s 5ms/step - loss: -197812633600.0000 - accuracy: 0.0000e+00 - val_loss: -186543587328.0000 - val_accuracy: 0.0000e+00\n",
            "Epoch 64/80\n",
            "38/38 [==============================] - 0s 6ms/step - loss: -208878649344.0000 - accuracy: 0.0000e+00 - val_loss: -197107023872.0000 - val_accuracy: 0.0000e+00\n",
            "Epoch 65/80\n",
            "38/38 [==============================] - 0s 6ms/step - loss: -220371353600.0000 - accuracy: 0.0000e+00 - val_loss: -207940878336.0000 - val_accuracy: 0.0000e+00\n",
            "Epoch 66/80\n",
            "38/38 [==============================] - 0s 6ms/step - loss: -232286633984.0000 - accuracy: 0.0000e+00 - val_loss: -218823770112.0000 - val_accuracy: 0.0000e+00\n",
            "Epoch 67/80\n",
            "38/38 [==============================] - 0s 5ms/step - loss: -244671070208.0000 - accuracy: 0.0000e+00 - val_loss: -230476169216.0000 - val_accuracy: 0.0000e+00\n",
            "Epoch 68/80\n",
            "38/38 [==============================] - 0s 5ms/step - loss: -257498415104.0000 - accuracy: 0.0000e+00 - val_loss: -242484363264.0000 - val_accuracy: 0.0000e+00\n",
            "Epoch 69/80\n",
            "38/38 [==============================] - 0s 6ms/step - loss: -270848638976.0000 - accuracy: 0.0000e+00 - val_loss: -254713593856.0000 - val_accuracy: 0.0000e+00\n",
            "Epoch 70/80\n",
            "38/38 [==============================] - 0s 6ms/step - loss: -284365651968.0000 - accuracy: 0.0000e+00 - val_loss: -267876794368.0000 - val_accuracy: 0.0000e+00\n",
            "Epoch 71/80\n",
            "38/38 [==============================] - 0s 5ms/step - loss: -298573660160.0000 - accuracy: 0.0000e+00 - val_loss: -280770936832.0000 - val_accuracy: 0.0000e+00\n",
            "Epoch 72/80\n",
            "38/38 [==============================] - 0s 5ms/step - loss: -313083035648.0000 - accuracy: 0.0000e+00 - val_loss: -294055641088.0000 - val_accuracy: 0.0000e+00\n",
            "Epoch 73/80\n",
            "38/38 [==============================] - 0s 5ms/step - loss: -327822114816.0000 - accuracy: 0.0000e+00 - val_loss: -308195000320.0000 - val_accuracy: 0.0000e+00\n",
            "Epoch 74/80\n",
            "38/38 [==============================] - 0s 6ms/step - loss: -343402151936.0000 - accuracy: 0.0000e+00 - val_loss: -322534080512.0000 - val_accuracy: 0.0000e+00\n",
            "Epoch 75/80\n",
            "38/38 [==============================] - 0s 5ms/step - loss: -359216283648.0000 - accuracy: 0.0000e+00 - val_loss: -337120722944.0000 - val_accuracy: 0.0000e+00\n",
            "Epoch 76/80\n",
            "38/38 [==============================] - 0s 5ms/step - loss: -375463477248.0000 - accuracy: 0.0000e+00 - val_loss: -352692535296.0000 - val_accuracy: 0.0000e+00\n",
            "Epoch 77/80\n",
            "38/38 [==============================] - 0s 5ms/step - loss: -392393949184.0000 - accuracy: 0.0000e+00 - val_loss: -367981592576.0000 - val_accuracy: 0.0000e+00\n",
            "Epoch 78/80\n",
            "38/38 [==============================] - 0s 5ms/step - loss: -409435406336.0000 - accuracy: 0.0000e+00 - val_loss: -384569212928.0000 - val_accuracy: 0.0000e+00\n",
            "Epoch 79/80\n",
            "38/38 [==============================] - 0s 6ms/step - loss: -427498373120.0000 - accuracy: 0.0000e+00 - val_loss: -400885645312.0000 - val_accuracy: 0.0000e+00\n",
            "Epoch 80/80\n",
            "38/38 [==============================] - 0s 5ms/step - loss: -445823549440.0000 - accuracy: 0.0000e+00 - val_loss: -417438171136.0000 - val_accuracy: 0.0000e+00\n"
          ]
        }
      ]
    },
    {
      "cell_type": "code",
      "source": [
        "model_history.history.keys()"
      ],
      "metadata": {
        "colab": {
          "base_uri": "https://localhost:8080/"
        },
        "id": "GtfJ1B4oHGbA",
        "outputId": "ef1698cc-573e-4f15-95fc-2fb493fd2c67"
      },
      "execution_count": null,
      "outputs": [
        {
          "output_type": "execute_result",
          "data": {
            "text/plain": [
              "dict_keys(['loss', 'accuracy', 'val_loss', 'val_accuracy'])"
            ]
          },
          "metadata": {},
          "execution_count": 51
        }
      ]
    },
    {
      "cell_type": "code",
      "source": [
        "\n",
        "#  \"Accuracy\"\n",
        "plt.plot(model_history.history['accuracy'])\n",
        "plt.plot(model_history.history['val_accuracy'])\n",
        "plt.title('model accuracy')\n",
        "plt.ylabel('accuracy')\n",
        "plt.xlabel('epoch')\n",
        "plt.legend(['train', 'test'], loc='upper left')\n",
        "plt.show()\n"
      ],
      "metadata": {
        "colab": {
          "base_uri": "https://localhost:8080/",
          "height": 472
        },
        "id": "xKd_IIx9HUQm",
        "outputId": "17781b3b-1d6e-426a-f682-7baa6361c458"
      },
      "execution_count": null,
      "outputs": [
        {
          "output_type": "display_data",
          "data": {
            "text/plain": [
              "<Figure size 640x480 with 1 Axes>"
            ],
            "image/png": "[encoded data removed]"
          },
          "metadata": {}
        }
      ]
    },
    {
      "cell_type": "code",
      "source": [
        "# \"Loss\"\n",
        "plt.plot(model_history.history['loss'])\n",
        "plt.plot(model_history.history['val_loss'])\n",
        "plt.title('model loss')\n",
        "plt.ylabel('loss')\n",
        "plt.xlabel('epoch')\n",
        "plt.legend(['train', 'test'], loc='upper left')\n",
        "plt.show()"
      ],
      "metadata": {
        "colab": {
          "base_uri": "https://localhost:8080/",
          "height": 472
        },
        "id": "x3603EY2Id0c",
        "outputId": "886927e6-c811-4a08-eac9-b4d5c3262c72"
      },
      "execution_count": null,
      "outputs": [
        {
          "output_type": "display_data",
          "data": {
            "text/plain": [
              "<Figure size 640x480 with 1 Axes>"
            ],
            "image/png": "[encoded data removed]"
          },
          "metadata": {}
        }
      ]
    },
    {
      "cell_type": "code",
      "source": [
        "# Making prediction and evaluation model\n",
        "\n",
        "# prediction\n",
        "y_pred = classifier.predict(X_test)\n",
        "y_pred = (y_pred >= 1)"
      ],
      "metadata": {
        "colab": {
          "base_uri": "https://localhost:8080/"
        },
        "id": "Uo2rWwyAI2Cb",
        "outputId": "5bbfe947-3281-468d-9a83-b1a30e4261e4"
      },
      "execution_count": null,
      "outputs": [
        {
          "output_type": "stream",
          "name": "stdout",
          "text": [
            "5/5 [==============================] - 0s 4ms/step\n"
          ]
        }
      ]
    },
    {
      "cell_type": "code",
      "source": [
        "# confusiom Matrix\n",
        "from sklearn.metrics import confusion_matrix\n",
        "cm = confusion_matrix(y_test,y_pred)\n",
        "cm"
      ],
      "metadata": {
        "colab": {
          "base_uri": "https://localhost:8080/"
        },
        "id": "t2FJBmiCJ3NZ",
        "outputId": "eea0d14e-693c-4980-c45d-c36abec7d32a"
      },
      "execution_count": null,
      "outputs": [
        {
          "output_type": "execute_result",
          "data": {
            "text/plain": [
              "array([[ 0,  0,  0],\n",
              "       [85,  0,  0],\n",
              "       [55,  0,  0]])"
            ]
          },
          "metadata": {},
          "execution_count": 62
        }
      ]
    },
    {
      "cell_type": "code",
      "source": [
        "from sklearn.metrics import confusion_matrix, ConfusionMatrixDisplay\n",
        "\n",
        "disp = ConfusionMatrixDisplay(confusion_matrix=cm)\n",
        "disp.plot()\n",
        "plt.show()"
      ],
      "metadata": {
        "colab": {
          "base_uri": "https://localhost:8080/",
          "height": 449
        },
        "id": "oNQw9LBAMS21",
        "outputId": "1edb94ad-15e7-4b9d-b563-d166bfff76bb"
      },
      "execution_count": null,
      "outputs": [
        {
          "output_type": "display_data",
          "data": {
            "text/plain": [
              "<Figure size 640x480 with 2 Axes>"
            ],
            "image/png": "[encoded data removed]"
          },
          "metadata": {}
        }
      ]
    },
    {
      "cell_type": "code",
      "source": [
        "# Cal accuracy\n",
        "from sklearn.metrics import accuracy_score\n",
        "score = accuracy_score(y_pred,y_test)"
      ],
      "metadata": {
        "id": "2Joc_9_xKM4R"
      },
      "execution_count": null,
      "outputs": []
    },
    {
      "cell_type": "code",
      "source": [
        "score"
      ],
      "metadata": {
        "colab": {
          "base_uri": "https://localhost:8080/"
        },
        "id": "GS_5wGl2KjZQ",
        "outputId": "eef6b381-f92f-4d2d-e3e2-3721aeac0824"
      },
      "execution_count": null,
      "outputs": [
        {
          "output_type": "execute_result",
          "data": {
            "text/plain": [
              "0.0"
            ]
          },
          "metadata": {},
          "execution_count": 64
        }
      ]
    },
    {
      "cell_type": "code",
      "source": [
        "# get weights\n",
        "\n",
        "classifier.get_weights()"
      ],
      "metadata": {
        "id": "oZlNo8NpKl_3"
      },
      "execution_count": null,
      "outputs": []
    }
  ]
}